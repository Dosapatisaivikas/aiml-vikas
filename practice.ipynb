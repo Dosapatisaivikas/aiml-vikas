{
 "cells": [
  {
   "cell_type": "code",
   "execution_count": 18,
   "id": "6f6d4e42-2c2c-4d6e-b6dd-95e187340780",
   "metadata": {},
   "outputs": [
    {
     "name": "stdout",
     "output_type": "stream",
     "text": [
      "even [100, 200, 20]\n",
      "odd [53, 79, 89, 1007]\n"
     ]
    }
   ],
   "source": [
    "l=[100,53,200,79,20,89,1007]\n",
    "l1=[n for n in l if n%2==0]\n",
    "l2=[n for n in l if n%2!=0]\n",
    "\n",
    "print(\"even\",l1)\n",
    "print(\"odd\",l2)"
   ]
  },
  {
   "cell_type": "code",
   "execution_count": 22,
   "id": "9079471d-9faf-42cc-83de-210e08288852",
   "metadata": {},
   "outputs": [
    {
     "name": "stdout",
     "output_type": "stream",
     "text": [
      "[53, 79, 89, 1007]\n"
     ]
    }
   ],
   "source": [
    "odd=[]\n",
    "for i in l:\n",
    "    if i%2!=0:\n",
    "        odd.append(i)\n",
    "print(odd)"
   ]
  },
  {
   "cell_type": "code",
   "execution_count": 24,
   "id": "4fdd436c-ad78-470a-893a-9626e0dd452c",
   "metadata": {},
   "outputs": [
    {
     "name": "stdout",
     "output_type": "stream",
     "text": [
      "[100, 53, 200, 79, 20, 89, 1007, 23]\n"
     ]
    }
   ],
   "source": [
    "l.append(23)\n",
    "print(l)\n"
   ]
  },
  {
   "cell_type": "code",
   "execution_count": 13,
   "id": "81dac912-cbc2-42c9-8c6c-c86727d41b54",
   "metadata": {},
   "outputs": [
    {
     "name": "stdout",
     "output_type": "stream",
     "text": [
      "[100]\n",
      "60\n",
      "30\n",
      "vikasvikasvikas\n",
      "prannethprannethpranneth\n",
      "300\n",
      "charancharancharan\n"
     ]
    }
   ],
   "source": [
    "l = [20,10,\"vikas\",\"pranneth\",100,\"charan\"]\n",
    "print(l[4:5])\n",
    "for x in l:\n",
    "    print(3*x)"
   ]
  },
  {
   "cell_type": "code",
   "execution_count": 37,
   "id": "f255144c-f743-4a36-89e0-c5f9a9607a39",
   "metadata": {},
   "outputs": [
    {
     "name": "stdout",
     "output_type": "stream",
     "text": [
      "10\n",
      "1\n",
      "2\n",
      "45\n",
      "18\n",
      "90\n",
      "[1, 2, 45, 18, 90]\n",
      "[1, 45, 18, 90]\n",
      "[1, 18, 45, 90]\n",
      "[90, 45, 18, 1]\n"
     ]
    }
   ],
   "source": [
    "l=[10,1,2,45,18,90]\n",
    "for x in range(len(l)):\n",
    "    print(l[x])\n",
    "l.remove(10)\n",
    "print(l)\n",
    "l.pop(1)\n",
    "print(l)\n",
    "l.sort()\n",
    "print(l)\n",
    "l.reverse()\n",
    "print(l)"
   ]
  },
  {
   "cell_type": "code",
   "execution_count": 31,
   "id": "7914778e-40b3-4954-ba8b-fbcf0634c6cf",
   "metadata": {},
   "outputs": [
    {
     "name": "stdout",
     "output_type": "stream",
     "text": [
      "[1, 2, 45, 18, 90, 20]\n"
     ]
    }
   ],
   "source": [
    "l.append(20)\n",
    "print(l)"
   ]
  },
  {
   "cell_type": "code",
   "execution_count": 47,
   "id": "03abbf1b-83cc-48bf-b8f7-52222ff006ca",
   "metadata": {},
   "outputs": [
    {
     "name": "stdout",
     "output_type": "stream",
     "text": [
      "[['apple', 10], ['bananna', 5], ['cherry', 7], ['mango', 9], ['cake', 2]]\n"
     ]
    },
    {
     "data": {
      "text/plain": [
       "[['apple', 10],\n",
       " ['bananna', 5],\n",
       " ['cherry', 7],\n",
       " ['dragon', 8],\n",
       " ['mango', 9],\n",
       " ['cake', 2],\n",
       " ['grapes', 8],\n",
       " ['apple', 3]]"
      ]
     },
     "execution_count": 47,
     "metadata": {},
     "output_type": "execute_result"
    }
   ],
   "source": [
    "#adding elements in driffernt positions\n",
    "o = [[\"apple\",10],[\"bananna\",5],[\"cherry\",7],[\"mango\",9]]\n",
    "new_o = [\"cake\",2]\n",
    "o.append(new_o)\n",
    "print(o)\n",
    "new_o1 = [[\"grapes\",8],[\"apple\",3]]\n",
    "o.extend(new_o1)\n",
    "o\n",
    "new_o2 = [\"dragon\",8]\n",
    "o.insert(3,new_o2)\n",
    "o"
   ]
  },
  {
   "cell_type": "code",
   "execution_count": null,
   "id": "db146f3e-8249-43dc-8612-d4ba071d82db",
   "metadata": {},
   "outputs": [],
   "source": [
    "\n"
   ]
  },
  {
   "cell_type": "code",
   "execution_count": 64,
   "id": "d268da30-7971-4eee-bc16-028d4fd152aa",
   "metadata": {},
   "outputs": [
    {
     "data": {
      "text/plain": [
       "[['bananna', 5], ['dragon', 8], ['grapes', 8], ['apple', 3]]"
      ]
     },
     "execution_count": 64,
     "metadata": {},
     "output_type": "execute_result"
    }
   ],
   "source": [
    "o.pop(2)\n",
    "o"
   ]
  },
  {
   "cell_type": "code",
   "execution_count": 9,
   "id": "e7edc99c-68e0-4801-8ad7-7dc05cdd1965",
   "metadata": {},
   "outputs": [
    {
     "name": "stdout",
     "output_type": "stream",
     "text": [
      "[['apple', 10], ['bananna', 5], ['cherry', 7], ['mango', 9], ['apple', 10], ['dragon', 9]]\n"
     ]
    }
   ],
   "source": [
    "o = [[\"apple\",10],[\"bananna\",5],[\"cherry\",7],[\"mango\",9],[\"apple\",20],[\"dragon\",9]]\n",
    "for each in o:\n",
    "    if each[0] == \"apple\":\n",
    "        each[1] = 10\n",
    "print(o)"
   ]
  },
  {
   "cell_type": "code",
   "execution_count": 25,
   "id": "739dd951-f4d3-43d9-918d-ca9036925a74",
   "metadata": {},
   "outputs": [
    {
     "data": {
      "text/plain": [
       "[['apple', 10],\n",
       " ['bananna', 5],\n",
       " ['cherry', 7],\n",
       " ['mango', 9],\n",
       " ['apple', 10],\n",
       " ['dragon', 9],\n",
       " ['apple', 15],\n",
       " ['apple', 15],\n",
       " ['apple', 15],\n",
       " ['apple', 15],\n",
       " ['apple', 15]]"
      ]
     },
     "execution_count": 25,
     "metadata": {},
     "output_type": "execute_result"
    }
   ],
   "source": [
    "o.append([\"apple\",15])\n",
    "o\n",
    "\n",
    "    \n",
    "    \n",
    "    \n",
    "\n",
    "    \n"
   ]
  },
  {
   "cell_type": "code",
   "execution_count": 27,
   "id": "26a1c1ad-d7e3-4a59-8e46-fda3bd1cb266",
   "metadata": {},
   "outputs": [
    {
     "name": "stdout",
     "output_type": "stream",
     "text": [
      "[10, 10, 15, 15, 15, 15, 15]\n",
      "95\n"
     ]
    }
   ],
   "source": [
    "o1 = []\n",
    "for  x in o:\n",
    "    if x[0] == \"apple\":\n",
    "        o1.append(x[1])\n",
    "        \n",
    "print(o1)\n",
    "print(sum(o1))"
   ]
  },
  {
   "cell_type": "raw",
   "id": "35509a57-d342-4d38-8956-eb576e4aca8c",
   "metadata": {},
   "source": [
    "#tuples\n",
    "#odered\n",
    "#immutable\n",
    "#hetrogeneous and fixes length after creation\n",
    "#zero based indexing\n",
    "#allow duplicates\n",
    "#iterble\n",
    "#support basic operations\n",
    "len(),sum(),count()"
   ]
  },
  {
   "cell_type": "code",
   "execution_count": 1,
   "id": "5f661368-f13c-45c3-b065-cac748e2fc14",
   "metadata": {},
   "outputs": [
    {
     "name": "stdout",
     "output_type": "stream",
     "text": [
      "(4, 3, 10, 9, 'A', 9.81, (9-8j), True, 4, 4, 4, 2, 5, 7, 4, 4)\n",
      "<class 'tuple'>\n",
      "16\n",
      "(4, 3, 10, 9, 'A', 9.81, (9-8j))\n",
      "('A', 9.81, (9-8j))\n",
      "4\n",
      "3\n"
     ]
    },
    {
     "data": {
      "text/plain": [
       "6"
      ]
     },
     "execution_count": 1,
     "metadata": {},
     "output_type": "execute_result"
    }
   ],
   "source": [
    "#creation of tuple\n",
    "t=(4,3,10,9,\"A\",9.81,9-8J,True,4,4,4,2,5,7,4,4)\n",
    "print(t)\n",
    "print(type(t))\n",
    "print(len(t))\n",
    "print(t[:7])\n",
    "print(t[4:7])\n",
    "print(t[0])\n",
    "print(t.index(9))\n",
    "t.index(3)\n",
    "t.count(4)           "
   ]
  },
  {
   "cell_type": "code",
   "execution_count": null,
   "id": "02e85049-ecd7-46eb-a7e3-7ce484c6ec4d",
   "metadata": {},
   "outputs": [],
   "source": [
    "#Dicitionaries\n",
    "#mutable unodered \n",
    "#key-value pair\n",
    "#keys must be hashed and unique\n",
    "#values can be any data type\n",
    "#dynamic sizing\n",
    "#iterable over keys,values,or key value pairs\n",
    "#cannot have mutable types as keys"
   ]
  },
  {
   "cell_type": "code",
   "execution_count": 17,
   "id": "a8bcdf30-f5fc-4ba5-80a0-b7bc89489f0a",
   "metadata": {},
   "outputs": [
    {
     "data": {
      "text/plain": [
       "{2, 3}"
      ]
     },
     "execution_count": 17,
     "metadata": {},
     "output_type": "execute_result"
    }
   ],
   "source": [
    "s1 = { 2,3,5,6,7}\n",
    "s2 = {5,6,7}\n",
    "s1-s2\n",
    "s2-s1\n",
    "s1.symmetric_difference(s2)"
   ]
  },
  {
   "cell_type": "code",
   "execution_count": 9,
   "id": "59160aac-a140-4bf2-84aa-f22638442cdc",
   "metadata": {},
   "outputs": [
    {
     "data": {
      "text/plain": [
       "{0, 2, 3, 4, 6, 8}"
      ]
     },
     "execution_count": 9,
     "metadata": {},
     "output_type": "execute_result"
    }
   ],
   "source": [
    "l1=[2,4,6,3,8,0]\n",
    "s2=set(l1)\n",
    "s2"
   ]
  },
  {
   "cell_type": "code",
   "execution_count": 19,
   "id": "3c0213b9-6224-4c6d-bf60-319bf0151ed6",
   "metadata": {},
   "outputs": [
    {
     "data": {
      "text/plain": [
       "{2, 3}"
      ]
     },
     "execution_count": 19,
     "metadata": {},
     "output_type": "execute_result"
    }
   ],
   "source": [
    "s1.symmetric_difference(s2)"
   ]
  },
  {
   "cell_type": "code",
   "execution_count": 23,
   "id": "77598e88-3d6d-4356-9e63-845ab59a7563",
   "metadata": {},
   "outputs": [
    {
     "data": {
      "text/plain": [
       "False"
      ]
     },
     "execution_count": 23,
     "metadata": {},
     "output_type": "execute_result"
    }
   ],
   "source": [
    "s1.issubset(s2)"
   ]
  },
  {
   "cell_type": "code",
   "execution_count": 5,
   "id": "de8cc643-594c-4367-970b-7a48ba720488",
   "metadata": {},
   "outputs": [
    {
     "name": "stdout",
     "output_type": "stream",
     "text": [
      "welcome to aiml class\n",
      "we strated with python\n",
      "this is an awesome class\n"
     ]
    }
   ],
   "source": [
    "str = \"welcome to aiml class\"\n",
    "print(str)\n",
    "str1 = 'we strated with python'\n",
    "print(str1)\n",
    "str2='''this is an awesome class'''\n",
    "print(str2)"
   ]
  },
  {
   "cell_type": "code",
   "execution_count": 9,
   "id": "a9afc61a-68f6-4364-a8ef-f066813a9072",
   "metadata": {},
   "outputs": [
    {
     "name": "stdout",
     "output_type": "stream",
     "text": [
      "welcome to aiml class\n"
     ]
    },
    {
     "data": {
      "text/plain": [
       "['welcome', 'to', 'aiml', 'class']"
      ]
     },
     "execution_count": 9,
     "metadata": {},
     "output_type": "execute_result"
    }
   ],
   "source": [
    "print(str)\n",
    "str[5:10]\n",
    "str.split()"
   ]
  },
  {
   "cell_type": "code",
   "execution_count": 13,
   "id": "03ec1eae-04f3-4c8e-aeed-f904f0c00423",
   "metadata": {},
   "outputs": [
    {
     "data": {
      "text/plain": [
       "'the product is awesome ! great service'"
      ]
     },
     "execution_count": 13,
     "metadata": {},
     "output_type": "execute_result"
    }
   ],
   "source": [
    "reviews = [\"the product is awesome\",\"great service\"]\n",
    "joined_string = ' ! '.join(reviews)\n",
    "joined_string"
   ]
  },
  {
   "cell_type": "code",
   "execution_count": 17,
   "id": "0dc9c9bb-d80e-46af-a94e-d1888b24bd28",
   "metadata": {},
   "outputs": [
    {
     "data": {
      "text/plain": [
       "'hello,how are you!!'"
      ]
     },
     "execution_count": 17,
     "metadata": {},
     "output_type": "execute_result"
    }
   ],
   "source": [
    "# use of strip() method\n",
    "str4 = \"   hello,how are you!!   \"\n",
    "str4.strip()"
   ]
  },
  {
   "cell_type": "code",
   "execution_count": 19,
   "id": "d4b22383-9b48-444b-adde-c4090461e732",
   "metadata": {},
   "outputs": [
    {
     "data": {
      "text/plain": [
       "'   HELLO,HOW ARE YOU!!   '"
      ]
     },
     "execution_count": 19,
     "metadata": {},
     "output_type": "execute_result"
    }
   ],
   "source": [
    "str4.upper()"
   ]
  },
  {
   "cell_type": "code",
   "execution_count": null,
   "id": "a3a115d9-5d72-46da-9af1-19fc85073e42",
   "metadata": {},
   "outputs": [],
   "source": []
  }
 ],
 "metadata": {
  "kernelspec": {
   "display_name": "Python 3 (ipykernel)",
   "language": "python",
   "name": "python3"
  },
  "language_info": {
   "codemirror_mode": {
    "name": "ipython",
    "version": 3
   },
   "file_extension": ".py",
   "mimetype": "text/x-python",
   "name": "python",
   "nbconvert_exporter": "python",
   "pygments_lexer": "ipython3",
   "version": "3.12.4"
  }
 },
 "nbformat": 4,
 "nbformat_minor": 5
}
